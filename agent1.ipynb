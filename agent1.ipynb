{
 "cells": [
  {
   "cell_type": "code",
   "execution_count": 1,
   "id": "c53be32a-b05f-451e-aa14-5f9afad81d83",
   "metadata": {},
   "outputs": [],
   "source": [
    "from llama_index.core.tools import FunctionTool\n",
    "from llama_index.llms.openai import OpenAI\n",
    "from llama_index.core.agent import ReActAgent"
   ]
  },
  {
   "cell_type": "code",
   "execution_count": 2,
   "id": "5d0cdc61-da6f-4ba0-92f2-3e0b777eb00d",
   "metadata": {},
   "outputs": [],
   "source": [
    "from llama_index.llms.huggingface import HuggingFaceLLM\n",
    "from llama_index.core import PromptTemplate\n",
    "import torch\n",
    "from transformers import AutoModelForCausalLM, AutoTokenizer\n",
    "from llama_index.llms.gemini import Gemini"
   ]
  },
  {
   "cell_type": "code",
   "execution_count": 3,
   "id": "cb225d2b-e6ae-4826-aa07-546f91c3eb56",
   "metadata": {},
   "outputs": [],
   "source": [
    "import os\n",
    "\n",
    "GOOGLE_API_KEY = \"\"  # add your GOOGLE API key here\n",
    "os.environ[\"GOOGLE_API_KEY\"] = ''"
   ]
  },
  {
   "cell_type": "code",
   "execution_count": 5,
   "id": "5ae2c8cc-d1ff-4015-bac2-d4a52ceb436a",
   "metadata": {},
   "outputs": [],
   "source": [
    "# define sample Tool\n",
    "# Define arithmetic operations functions\n",
    "\n",
    "def add(num1, num2):\n",
    "    \"\"\"\n",
    "    Add two numbers and return the result.\n",
    "    \"\"\"\n",
    "    return num1 + num2\n",
    "\n",
    "def subtract(num1, num2):\n",
    "    \"\"\"\n",
    "    Subtract the second number from the first and return the result.\n",
    "    \"\"\"\n",
    "    return num1 - num2\n",
    "\n",
    "def multiply(num1, num2):\n",
    "    \"\"\"\n",
    "    Multiply two numbers and return the result.\n",
    "    \"\"\"\n",
    "    return num1 * num2\n",
    "\n",
    "def divide(num1, num2):\n",
    "    \"\"\"\n",
    "    Divide the first number by the second and return the result.\n",
    "    \"\"\"\n",
    "    if num2 == 0:\n",
    "        return \"Error: Division by zero is not allowed.\"\n",
    "    return num1 / num2\n",
    "\n",
    "def coder() -> str:\n",
    "    \"\"\"\n",
    "    Get the name of the developer or coder of this tool.\n",
    "\n",
    "    This function returns the name of the person responsible for coding or developing this tool.\n",
    "\n",
    "    Returns:\n",
    "        str: The name of the coder (developer) of the tool, which is 'Shantanu Deo'.\n",
    "\n",
    "    Example:\n",
    "        >>> coder()\n",
    "        'Shantanu Deo'\n",
    "    \"\"\"\n",
    "    return 'Shantanu Deo'\n",
    "\n",
    "def tester() -> str:\n",
    "    \"\"\"\n",
    "    Get the name of the tester of this tool.\n",
    "\n",
    "    This function returns the name of the person responsible for testing this tool.\n",
    "\n",
    "    Returns:\n",
    "        str: The name of the tester of the tool, which is 'Suruchi Bhide'.\n",
    "\n",
    "    Example:\n",
    "        >>> tester()\n",
    "        'Suruchi Bhide'\n",
    "    \"\"\"\n",
    "    return 'Suruchi Bhide'\n",
    "\n",
    "def getpersonInfo(person: str) -> str:\n",
    "    \"\"\"\n",
    "    Returns a brief description of a person based on their name.\n",
    "\n",
    "    Args:\n",
    "        person (str): The name of the person whose information is to be retrieved.\n",
    "\n",
    "    Returns:\n",
    "        str: A description of the person, including details such as their job and family.\n",
    "        \n",
    "    Example:\n",
    "        >>> getpersonInfo(\"Shantanu Deo\")\n",
    "        'He is a coder in Aviva. He has a wife and a daughter named Shamika'\n",
    "        \n",
    "        >>> getpersonInfo(\"Suruchi Bhide\")\n",
    "        'She is a tester in Aviva. She has a husband and a daughter named Shamika'\n",
    "\n",
    "    Notes:\n",
    "        - Currently, this function only supports information for 'Shantanu Deo' and 'Suruchi Bhide'.\n",
    "        - If the name doesn't match any of the predefined entries, the function will return `None`.\n",
    "    \"\"\"\n",
    "    if person == 'Shantanu Deo':\n",
    "        return 'He is a coder in Aviva. He has a wife and a daughter named Shamika'\n",
    "    if person == 'Suruchi Bhide':\n",
    "        return 'She is a tester in Aviva. She has a husband and a daughter named Shamika'\n",
    "    return None\n"
   ]
  },
  {
   "cell_type": "code",
   "execution_count": 11,
   "id": "1599a4cc-7a6c-4e85-b3ac-e1398a931e6a",
   "metadata": {},
   "outputs": [],
   "source": [
    "add_tool = FunctionTool.from_defaults(fn=add)\n",
    "subtract_tool = FunctionTool.from_defaults(fn=subtract)\n",
    "multiply_tool = FunctionTool.from_defaults(fn=multiply)\n",
    "divide_tool = FunctionTool.from_defaults(fn=divide)\n",
    "coder_tool = FunctionTool.from_defaults(fn=coder)\n",
    "tester_tool = FunctionTool.from_defaults(fn=tester)\n",
    "personinfo_tool = FunctionTool.from_defaults(fn=getpersonInfo)"
   ]
  },
  {
   "cell_type": "code",
   "execution_count": 13,
   "id": "c65b2a1d-2116-4724-adfe-a690f334558d",
   "metadata": {},
   "outputs": [],
   "source": [
    "from llama_index.llms.gemini import Gemini\n",
    "\n",
    "llm = Gemini(\n",
    "    model=\"models/gemini-1.5-flash\",\n",
    "    # api_key=\"some key\",  # uses GOOGLE_API_KEY env var by default\n",
    ")"
   ]
  },
  {
   "cell_type": "code",
   "execution_count": 14,
   "id": "fcc9447d-492a-41cf-a068-dd34a20ecce6",
   "metadata": {},
   "outputs": [],
   "source": [
    "#llm = HuggingFaceLLM(model_name=\"deepseek-ai/deepseek-coder-1.3b-instruct\")"
   ]
  },
  {
   "cell_type": "code",
   "execution_count": 15,
   "id": "3ebf5b1b-b6ef-4c2d-9cc6-434cf2025f78",
   "metadata": {},
   "outputs": [],
   "source": [
    "# initialize ReAct agent\n",
    "agent = ReActAgent.from_tools([add_tool,subtract_tool,multiply_tool,divide_tool,coder_tool,tester_tool,personinfo_tool], llm=llm, verbose=True)"
   ]
  },
  {
   "cell_type": "code",
   "execution_count": 16,
   "id": "3f46c25d-aec7-4998-bc9c-bcf79062da11",
   "metadata": {},
   "outputs": [
    {
     "name": "stdout",
     "output_type": "stream",
     "text": [
      "> Running step 83216881-88d2-41d5-a660-44de5e98de83. Step input: What is 20+(2*4)? Calculate step by step \n",
      "\u001b[1;3;38;5;200mThought: The current language of the user is: English. I need to use the `multiply` tool to calculate 2 * 4, and then the `add` tool to add the result to 20.\n",
      "Action: multiply\n",
      "Action Input: {'num1': 2, 'num2': 4}\n",
      "\u001b[0m\u001b[1;3;34mObservation: 8\n",
      "\u001b[0m> Running step 1566ae32-f123-4ea4-bfcf-4a9186c6a165. Step input: None\n",
      "\u001b[1;3;38;5;200mThought: I have the result of 2 * 4, which is 8. Now I need to add 20 and 8 using the `add` tool.\n",
      "Action: add\n",
      "Action Input: {'num1': 20, 'num2': 8}\n",
      "\u001b[0m\u001b[1;3;34mObservation: 28\n",
      "\u001b[0m> Running step a29f0d4b-9acc-419f-a5c7-46c9ff0f5bb0. Step input: None\n",
      "\u001b[1;3;38;5;200mThought: I can answer without using any more tools. I'll use the user's language to answer\n",
      "Answer: 20 + (2 * 4) = 20 + 8 = 28\n",
      "\u001b[0m"
     ]
    }
   ],
   "source": [
    "response = agent.chat(\"What is 20+(2*4)? Calculate step by step \")"
   ]
  },
  {
   "cell_type": "code",
   "execution_count": 17,
   "id": "99660c95-0d03-4668-a0d3-26c3b43f942d",
   "metadata": {},
   "outputs": [
    {
     "name": "stdout",
     "output_type": "stream",
     "text": [
      "> Running step 27f0fcb4-e933-4124-b997-594dbe9e5f1a. Step input: Who is developer of this tool? Calculate step by step \n",
      "\u001b[1;3;38;5;200mThought: The current language of the user is: English. I need to use the `coder` tool to get the developer's name.\n",
      "Action: coder\n",
      "Action Input: {}\n",
      "\u001b[0m\u001b[1;3;34mObservation: Shantanu Deo\n",
      "\u001b[0m> Running step e2d71d43-2be3-4709-8fc6-23ee43d1efa4. Step input: None\n",
      "\u001b[1;3;38;5;200mThought: I can answer without using any more tools. I'll use the user's language to answer\n",
      "Answer: The developer of this tool is Shantanu Deo.\n",
      "\u001b[0m"
     ]
    }
   ],
   "source": [
    "response = agent.chat(\"Who is developer of this tool? Calculate step by step \")"
   ]
  },
  {
   "cell_type": "code",
   "execution_count": 18,
   "id": "22bfb007-9964-4e61-93bb-c5ab6ec9a4cf",
   "metadata": {},
   "outputs": [
    {
     "name": "stdout",
     "output_type": "stream",
     "text": [
      "> Running step 057eadaf-9935-4ad0-99f2-479e78672aa8. Step input: Who is the tester of this tool? Calculate step by step \n",
      "\u001b[1;3;38;5;200mThought: The current language of the user is: English. I need to use a tool to help me answer the question.\n",
      "Action: tester\n",
      "Action Input: {}\n",
      "\u001b[0m\u001b[1;3;34mObservation: Suruchi Bhide\n",
      "\u001b[0m> Running step 6dfa8249-c01d-46f4-9965-c24f9b928239. Step input: None\n",
      "\u001b[1;3;38;5;200mThought: I can answer without using any more tools. I'll use the user's language to answer\n",
      "Answer: The tester of this tool is Suruchi Bhide.\n",
      "\u001b[0m"
     ]
    }
   ],
   "source": [
    "response = agent.chat(\"Who is the tester of this tool? Calculate step by step \")"
   ]
  },
  {
   "cell_type": "code",
   "execution_count": null,
   "id": "c5b9339f-dd35-47e4-91cb-e0ca44e86767",
   "metadata": {},
   "outputs": [],
   "source": [
    "response = agent.chat(\"What is the relationship between coder o Think step by step \")"
   ]
  }
 ],
 "metadata": {
  "kernelspec": {
   "display_name": "Python 3 (ipykernel)",
   "language": "python",
   "name": "python3"
  },
  "language_info": {
   "codemirror_mode": {
    "name": "ipython",
    "version": 3
   },
   "file_extension": ".py",
   "mimetype": "text/x-python",
   "name": "python",
   "nbconvert_exporter": "python",
   "pygments_lexer": "ipython3",
   "version": "3.13.2"
  }
 },
 "nbformat": 4,
 "nbformat_minor": 5
}
